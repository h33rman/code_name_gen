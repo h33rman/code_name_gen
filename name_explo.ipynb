{
 "cells": [
  {
   "cell_type": "code",
   "id": "initial_id",
   "metadata": {
    "collapsed": true,
    "ExecuteTime": {
     "end_time": "2024-11-13T13:43:34.100490Z",
     "start_time": "2024-11-13T13:43:32.740193Z"
    }
   },
   "source": [
    "import pandas as pd\n",
    "import re\n",
    "from unidecode import unidecode"
   ],
   "outputs": [],
   "execution_count": 7
  },
  {
   "metadata": {
    "ExecuteTime": {
     "end_time": "2024-11-13T11:16:54.142767Z",
     "start_time": "2024-11-13T11:16:54.057523Z"
    }
   },
   "cell_type": "code",
   "source": [
    "# Load the data\n",
    "df = pd.read_csv('Code_HE_PFE.csv')\n",
    "df.head()"
   ],
   "id": "c251293c7a6c95df",
   "outputs": [
    {
     "data": {
      "text/plain": [
       "                                          id             name  default_code\n",
       "0  __export__.product_template_5138_45739622       HE 5HE [F]           NaN\n",
       "1  __export__.product_template_5139_1ee4adee       HE 5HE [L]           NaN\n",
       "2      __import__.import_component_laan_0471   HE Anisata [B]           NaN\n",
       "3      __import__.import_component_laan_0473   HE Anisata [C]           NaN\n",
       "4      __import__.import_component_laan_0475  HE Anisata [EC]           NaN"
      ],
      "text/html": [
       "<div>\n",
       "<style scoped>\n",
       "    .dataframe tbody tr th:only-of-type {\n",
       "        vertical-align: middle;\n",
       "    }\n",
       "\n",
       "    .dataframe tbody tr th {\n",
       "        vertical-align: top;\n",
       "    }\n",
       "\n",
       "    .dataframe thead th {\n",
       "        text-align: right;\n",
       "    }\n",
       "</style>\n",
       "<table border=\"1\" class=\"dataframe\">\n",
       "  <thead>\n",
       "    <tr style=\"text-align: right;\">\n",
       "      <th></th>\n",
       "      <th>id</th>\n",
       "      <th>name</th>\n",
       "      <th>default_code</th>\n",
       "    </tr>\n",
       "  </thead>\n",
       "  <tbody>\n",
       "    <tr>\n",
       "      <th>0</th>\n",
       "      <td>__export__.product_template_5138_45739622</td>\n",
       "      <td>HE 5HE [F]</td>\n",
       "      <td>NaN</td>\n",
       "    </tr>\n",
       "    <tr>\n",
       "      <th>1</th>\n",
       "      <td>__export__.product_template_5139_1ee4adee</td>\n",
       "      <td>HE 5HE [L]</td>\n",
       "      <td>NaN</td>\n",
       "    </tr>\n",
       "    <tr>\n",
       "      <th>2</th>\n",
       "      <td>__import__.import_component_laan_0471</td>\n",
       "      <td>HE Anisata [B]</td>\n",
       "      <td>NaN</td>\n",
       "    </tr>\n",
       "    <tr>\n",
       "      <th>3</th>\n",
       "      <td>__import__.import_component_laan_0473</td>\n",
       "      <td>HE Anisata [C]</td>\n",
       "      <td>NaN</td>\n",
       "    </tr>\n",
       "    <tr>\n",
       "      <th>4</th>\n",
       "      <td>__import__.import_component_laan_0475</td>\n",
       "      <td>HE Anisata [EC]</td>\n",
       "      <td>NaN</td>\n",
       "    </tr>\n",
       "  </tbody>\n",
       "</table>\n",
       "</div>"
      ]
     },
     "execution_count": 25,
     "metadata": {},
     "output_type": "execute_result"
    }
   ],
   "execution_count": 25
  },
  {
   "metadata": {
    "ExecuteTime": {
     "end_time": "2024-11-13T11:16:54.298656Z",
     "start_time": "2024-11-13T11:16:54.278237Z"
    }
   },
   "cell_type": "code",
   "source": [
    "def process_name(name):\n",
    "    # Remove accents from the name\n",
    "    name = unidecode(name)\n",
    "    \n",
    "    # Split the name into words\n",
    "    words = name.split()\n",
    "    \n",
    "    # Initialize the result dictionary\n",
    "    result = {'original_name': name}\n",
    "    \n",
    "    word_columns = []\n",
    "    type_column = None\n",
    "    volume_column = None\n",
    "    \n",
    "    for word in words:\n",
    "        # Ignore \"de\", \"à\", and \"et\"\n",
    "        if word.lower() in [\"de\", \"a\", \"et\"]:\n",
    "            continue\n",
    "        \n",
    "        # Check if the word is inside brackets\n",
    "        if word.startswith('[') and word.endswith(']'):\n",
    "            type_column = word[1:-1]\n",
    "        # Check if the word ends with \"ml\"\n",
    "        elif re.match(r\"^\\d+ml$\", word, re.IGNORECASE):\n",
    "            volume_column = word.upper()\n",
    "        else:\n",
    "            word_columns.append(word)\n",
    "    \n",
    "    # Add words to the result dictionary\n",
    "    for i, word in enumerate(word_columns):\n",
    "        result[f'word_{i+1}'] = word\n",
    "    \n",
    "    # Add type and volume to the result dictionary\n",
    "    if type_column:\n",
    "        result['type'] = type_column\n",
    "    if volume_column:\n",
    "        result['volume'] = volume_column\n",
    "    \n",
    "    return result"
   ],
   "id": "836b552dae628b94",
   "outputs": [],
   "execution_count": 26
  },
  {
   "metadata": {
    "ExecuteTime": {
     "end_time": "2024-11-13T11:16:54.456571Z",
     "start_time": "2024-11-13T11:16:54.410995Z"
    }
   },
   "cell_type": "code",
   "source": [
    "# Apply the function to process each name\n",
    "processed_data = df['name'].apply(process_name)\n",
    "\n",
    "# Convert the processed data to a DataFrame\n",
    "processed_df = pd.DataFrame(processed_data.tolist())\n",
    "\n",
    "# Save the updated DataFrame back to a CSV file\n",
    "processed_df.to_csv('structured_data.csv', index=False)\n",
    "print('Data saved to structured_data.csv')"
   ],
   "id": "bdce760bf6d3508f",
   "outputs": [
    {
     "name": "stdout",
     "output_type": "stream",
     "text": [
      "Data saved to structured_data.csv\n"
     ]
    }
   ],
   "execution_count": 27
  },
  {
   "metadata": {
    "ExecuteTime": {
     "end_time": "2024-11-13T13:30:53.075742Z",
     "start_time": "2024-11-13T13:30:53.060250Z"
    }
   },
   "cell_type": "code",
   "source": [
    "# Rename the data csv file to HE_PFE_name_data.csv\n",
    "import os\n",
    "os.rename('structured_data.csv', 'HE_PFE_name_data.csv')"
   ],
   "id": "71c98eb8675beb9c",
   "outputs": [],
   "execution_count": 1
  },
  {
   "metadata": {
    "ExecuteTime": {
     "end_time": "2024-11-13T13:32:09.214488Z",
     "start_time": "2024-11-13T13:32:09.095774Z"
    }
   },
   "cell_type": "code",
   "source": [
    "# ls terminal command to check the file name\n",
    "%ls"
   ],
   "id": "1830991015b5a3af",
   "outputs": [
    {
     "name": "stdout",
     "output_type": "stream",
     "text": [
      " Volume in drive C is Windows OS\n",
      " Volume Serial Number is 7A57-2C5E\n",
      "\n",
      " Directory of C:\\Users\\herma\\PycharmProjects\\PFE_code_gen\n",
      "\n",
      "13/11/2024  16:32    <DIR>          .\n",
      "13/11/2024  16:32    <DIR>          ..\n",
      "13/11/2024  16:22    <DIR>          .idea\n",
      "13/11/2024  14:16            30,316 Code_HE_PFE.csv\n",
      "13/11/2024  14:16            37,130 Code_HE_PFE_updated.csv\n",
      "13/11/2024  11:38             1,369 default_code_gen.py\n",
      "13/11/2024  16:30            22,450 HE_PFE_name_data.csv\n",
      "13/11/2024  16:32             7,446 name_explo.ipynb\n",
      "               5 File(s)         98,711 bytes\n",
      "               3 Dir(s)  81,191,632,896 bytes free\n"
     ]
    }
   ],
   "execution_count": 4
  },
  {
   "metadata": {
    "ExecuteTime": {
     "end_time": "2024-11-13T13:43:38.963148Z",
     "start_time": "2024-11-13T13:43:38.911921Z"
    }
   },
   "cell_type": "code",
   "source": [
    "# Load the data\n",
    "data = pd.read_csv('HE_PFE_name_data.csv')\n",
    "data.head()\n"
   ],
   "id": "f967d3fa53e912c5",
   "outputs": [
    {
     "data": {
      "text/plain": [
       "     original_name word_1   word_2 word_3 word_4 word_5 word_6  cert brand  \\\n",
       "0       HE 5HE [F]     HE      5HE    NaN    NaN    NaN    NaN   NaN   NaN   \n",
       "1       HE 5HE [L]     HE      5HE    NaN    NaN    NaN    NaN   NaN   NaN   \n",
       "2   HE Anisata [B]     HE  Anisata    NaN    NaN    NaN    NaN   NaN   NaN   \n",
       "3   HE Anisata [C]     HE  Anisata    NaN    NaN    NaN    NaN   NaN   NaN   \n",
       "4  HE Anisata [EC]     HE  Anisata    NaN    NaN    NaN    NaN   NaN   NaN   \n",
       "\n",
       "  volume type  \n",
       "0    NaN    F  \n",
       "1    NaN    L  \n",
       "2    NaN    B  \n",
       "3    NaN    C  \n",
       "4    NaN   EC  "
      ],
      "text/html": [
       "<div>\n",
       "<style scoped>\n",
       "    .dataframe tbody tr th:only-of-type {\n",
       "        vertical-align: middle;\n",
       "    }\n",
       "\n",
       "    .dataframe tbody tr th {\n",
       "        vertical-align: top;\n",
       "    }\n",
       "\n",
       "    .dataframe thead th {\n",
       "        text-align: right;\n",
       "    }\n",
       "</style>\n",
       "<table border=\"1\" class=\"dataframe\">\n",
       "  <thead>\n",
       "    <tr style=\"text-align: right;\">\n",
       "      <th></th>\n",
       "      <th>original_name</th>\n",
       "      <th>word_1</th>\n",
       "      <th>word_2</th>\n",
       "      <th>word_3</th>\n",
       "      <th>word_4</th>\n",
       "      <th>word_5</th>\n",
       "      <th>word_6</th>\n",
       "      <th>cert</th>\n",
       "      <th>brand</th>\n",
       "      <th>volume</th>\n",
       "      <th>type</th>\n",
       "    </tr>\n",
       "  </thead>\n",
       "  <tbody>\n",
       "    <tr>\n",
       "      <th>0</th>\n",
       "      <td>HE 5HE [F]</td>\n",
       "      <td>HE</td>\n",
       "      <td>5HE</td>\n",
       "      <td>NaN</td>\n",
       "      <td>NaN</td>\n",
       "      <td>NaN</td>\n",
       "      <td>NaN</td>\n",
       "      <td>NaN</td>\n",
       "      <td>NaN</td>\n",
       "      <td>NaN</td>\n",
       "      <td>F</td>\n",
       "    </tr>\n",
       "    <tr>\n",
       "      <th>1</th>\n",
       "      <td>HE 5HE [L]</td>\n",
       "      <td>HE</td>\n",
       "      <td>5HE</td>\n",
       "      <td>NaN</td>\n",
       "      <td>NaN</td>\n",
       "      <td>NaN</td>\n",
       "      <td>NaN</td>\n",
       "      <td>NaN</td>\n",
       "      <td>NaN</td>\n",
       "      <td>NaN</td>\n",
       "      <td>L</td>\n",
       "    </tr>\n",
       "    <tr>\n",
       "      <th>2</th>\n",
       "      <td>HE Anisata [B]</td>\n",
       "      <td>HE</td>\n",
       "      <td>Anisata</td>\n",
       "      <td>NaN</td>\n",
       "      <td>NaN</td>\n",
       "      <td>NaN</td>\n",
       "      <td>NaN</td>\n",
       "      <td>NaN</td>\n",
       "      <td>NaN</td>\n",
       "      <td>NaN</td>\n",
       "      <td>B</td>\n",
       "    </tr>\n",
       "    <tr>\n",
       "      <th>3</th>\n",
       "      <td>HE Anisata [C]</td>\n",
       "      <td>HE</td>\n",
       "      <td>Anisata</td>\n",
       "      <td>NaN</td>\n",
       "      <td>NaN</td>\n",
       "      <td>NaN</td>\n",
       "      <td>NaN</td>\n",
       "      <td>NaN</td>\n",
       "      <td>NaN</td>\n",
       "      <td>NaN</td>\n",
       "      <td>C</td>\n",
       "    </tr>\n",
       "    <tr>\n",
       "      <th>4</th>\n",
       "      <td>HE Anisata [EC]</td>\n",
       "      <td>HE</td>\n",
       "      <td>Anisata</td>\n",
       "      <td>NaN</td>\n",
       "      <td>NaN</td>\n",
       "      <td>NaN</td>\n",
       "      <td>NaN</td>\n",
       "      <td>NaN</td>\n",
       "      <td>NaN</td>\n",
       "      <td>NaN</td>\n",
       "      <td>EC</td>\n",
       "    </tr>\n",
       "  </tbody>\n",
       "</table>\n",
       "</div>"
      ]
     },
     "execution_count": 8,
     "metadata": {},
     "output_type": "execute_result"
    }
   ],
   "execution_count": 8
  }
 ],
 "metadata": {
  "kernelspec": {
   "display_name": "Python 3",
   "language": "python",
   "name": "python3"
  },
  "language_info": {
   "codemirror_mode": {
    "name": "ipython",
    "version": 2
   },
   "file_extension": ".py",
   "mimetype": "text/x-python",
   "name": "python",
   "nbconvert_exporter": "python",
   "pygments_lexer": "ipython2",
   "version": "2.7.6"
  }
 },
 "nbformat": 4,
 "nbformat_minor": 5
}
